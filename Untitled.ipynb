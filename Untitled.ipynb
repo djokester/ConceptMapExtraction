{
 "cells": [
  {
   "cell_type": "code",
   "execution_count": 46,
   "metadata": {},
   "outputs": [],
   "source": [
    "from nltk import word_tokenize\n",
    "from nltk.corpus import stopwords\n",
    "from nltk.tokenize import sent_tokenize\n",
    "def normalize(string):\n",
    "    lst = word_tokenize(string)\n",
    "    lst =[word.lower() for word in lst if word.isalpha()]\n",
    "    lst = [w for w in lst if not w in stopwords.words('english')]\n",
    "    lst = [w for w in lst if not w == \"fig\"]\n",
    "    return(lst)"
   ]
  },
  {
   "cell_type": "code",
   "execution_count": 47,
   "metadata": {},
   "outputs": [],
   "source": [
    "f = open(\"Corpus/textfiles/chapter1.txt\")\n",
    "chapter = \" \".join(f.read().split(\"\\n\"))\n",
    "lst = sent_tokenize(chapter)\n",
    "chapter = [normalize(i) for i in lst]\n",
    "chapter = [i for i in chapter if len(i)>1]\n",
    "chapter = [i for i in chapter if len(i)>2 or (len(i) == 2 and \"fig\" not in i)]"
   ]
  },
  {
   "cell_type": "code",
   "execution_count": 69,
   "metadata": {},
   "outputs": [],
   "source": [
    "from gensim.test.utils import common_texts, get_tmpfile\n",
    "from gensim.models import Word2Vec\n",
    "model = Word2Vec(chapter, size=100, window=5, min_count= 2, workers=4)"
   ]
  },
  {
   "cell_type": "code",
   "execution_count": 70,
   "metadata": {},
   "outputs": [
    {
     "data": {
      "text/plain": [
       "[('classes', 0.34495168924331665),\n",
       " ('monarch', 0.31939518451690674),\n",
       " ('sicilies', 0.2620154619216919),\n",
       " ('one', 0.2595251798629761),\n",
       " ('depicts', 0.237632155418396),\n",
       " ('young', 0.2370045781135559),\n",
       " ('citizen', 0.23467077314853668),\n",
       " ('cotton', 0.23421864211559296),\n",
       " ('wer', 0.22916650772094727),\n",
       " ('functions', 0.2226213663816452)]"
      ]
     },
     "execution_count": 70,
     "metadata": {},
     "output_type": "execute_result"
    }
   ],
   "source": [
    "model.wv.similar_by_word(\"german\")"
   ]
  },
  {
   "cell_type": "code",
   "execution_count": null,
   "metadata": {},
   "outputs": [],
   "source": []
  }
 ],
 "metadata": {
  "kernelspec": {
   "display_name": "Python 3",
   "language": "python",
   "name": "python3"
  },
  "language_info": {
   "codemirror_mode": {
    "name": "ipython",
    "version": 3
   },
   "file_extension": ".py",
   "mimetype": "text/x-python",
   "name": "python",
   "nbconvert_exporter": "python",
   "pygments_lexer": "ipython3",
   "version": "3.6.5"
  }
 },
 "nbformat": 4,
 "nbformat_minor": 2
}
